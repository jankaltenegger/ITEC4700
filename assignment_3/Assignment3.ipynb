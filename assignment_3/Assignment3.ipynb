{
 "cells": [
  {
   "cell_type": "code",
   "execution_count": 23,
   "id": "75834e34-6763-45a5-b832-e54cdf167186",
   "metadata": {},
   "outputs": [
    {
     "name": "stdout",
     "output_type": "stream",
     "text": [
      "Intercept: -14256.770800369777\n",
      "Coefficient: 50.93315821483665\n"
     ]
    }
   ],
   "source": [
    "import numpy as np\n",
    "import pandas as pd\n",
    "from sklearn.linear_model import LinearRegression\n",
    "\n",
    "data = pd.read_csv('Rent_regression.csv')\n",
    "\n",
    "df = data[['Size', 'Rent']]\n",
    "df = df.replace([np.inf, -np.inf], np.nan).dropna(subset=['Size','Rent'])\n",
    "\n",
    "X = df[['Size']]\n",
    "y = df['Rent']\n",
    "\n",
    "model = LinearRegression().fit(X, y)\n",
    "\n",
    "print('Intercept:', model.intercept_)\n",
    "print('Coefficient:', model.coef_[0])"
   ]
  },
  {
   "cell_type": "code",
   "execution_count": null,
   "id": "60bf3b1e-d0ce-4a6c-aaf6-49f20c95eb1b",
   "metadata": {},
   "outputs": [],
   "source": []
  }
 ],
 "metadata": {
  "kernelspec": {
   "display_name": "Python 3 (ipykernel)",
   "language": "python",
   "name": "python3"
  },
  "language_info": {
   "codemirror_mode": {
    "name": "ipython",
    "version": 3
   },
   "file_extension": ".py",
   "mimetype": "text/x-python",
   "name": "python",
   "nbconvert_exporter": "python",
   "pygments_lexer": "ipython3",
   "version": "3.13.5"
  }
 },
 "nbformat": 4,
 "nbformat_minor": 5
}
