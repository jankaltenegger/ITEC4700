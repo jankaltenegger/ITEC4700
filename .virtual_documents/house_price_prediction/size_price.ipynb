


#Jan Kaltenegger
import pandas as pd
import numpy as np
import matplotlib.pyplot as plt
from sklearn.linear_model import LinearRegression
from sklearn.utils import shuffle


df = pd.read_csv('kc_house_data.csv')
df.head()


df.info()


type(df)


df.shape


print('Number of rows', df.shape[0])
print('Number of columns', df.shape[1])


df.head()


df.describe()


sample= df.sample(6)
print(sample)


price=df['price']
print(price)
type(price)
price.shape


get_ipython().run_line_magic("matplotlib", " inline")
import seaborn as sns; sns.set()
plt.hist(price, range=(0,300000), bins=100)
plt.axvline(price.mean(), color='red', linestyle='dashed', linewidth=2)
plt.axvline(price.median(), color='green', linestyle='dashed', linewidth=2)
plt.show()


df.iloc[0]


df.columns


x = df[['sqft_living']]
x.head()


type(x) 


x.shape


y = df['price']
y.head()


from sklearn.model_selection import train_test_split
x_train, x_test, y_train, y_test = train_test_split(x, y, test_size=0.2, random_state=42)
print(f'x_train shape: {x_train.shape}')
print(f'y_train shape: {y_train.shape}')
print(f'x_train shape: {x_test.shape}')
print(f'y_train shape: {y_test.shape}')


plt.scatter(x_train, y_train)
plt.xlabel('Living Area (sqft)')
plt.ylabel('Price ($)')


lr = LinearRegression()
lr.fit(x_train, y_train)


round(lr.intercept_)


round(lr.coef_[0])


x_sample = x_train.iloc[:3]
x_sample


lr.predict(x_sample).round()


y_sample = y_train.iloc[:3]
y_sample


plt.scatter(x_train, y_train)
plt.xlabel('Living Area (sqft)')
plt.plot(x_train, lr.predict(x_train), color='red')






