


import numpy as np
import matplotlib.pyplot as plt
plt.rcParams['figure.figsize'] = (6.0, 4.0)


from sklearn.datasets import load_iris
iris = load_iris()
iris.data.shape


iris.target.shape





np.unique(iris['target'])


np.bincount(iris['target'])


iris


x = iris.data[:, [2, 3]]
y = iris.target


plt.scatter(x[:, 0], x[:, 1], c=y)
plt.xlabel('Petal Length')
plt.ylabel('Petal Width')
plt.title('150 Irises')
plt.show()


classes = np.unique(y)


for cl in classes:
    x_class = x[y==cl]
    plt.scatter(x_class[:, 0], x_class[:, 1], label=cl)


from sklearn.model_selection import train_test_split

x_train, x_test, y_train, y_test = train_test_split(x, y, test_size=0.3, stratify=y)


np.bincount(y)


np.bincount(y_train)


np.bincount(y_test)


from sklearn.linear_model import LogisticRegression


lr = LogisticRegression()


lr.fit(x_train, y_train)


from matplotlib.colors import ListedColormap

# To check recent matplotlib compatibility
import matplotlib
from distutils.version import LooseVersion


def plot_decision_regions(X, y, classifier, test_idx=None, resolution=0.02):

    # setup marker generator and color map
    markers = ('s', 'x', 'o', '^', 'v')
    colors = ('red', 'blue', 'lightgreen', 'gray', 'cyan')
    cmap = ListedColormap(colors[:len(np.unique(y))])

    # plot the decision surface
    x1_min, x1_max = X[:, 0].min() - 1, X[:, 0].max() + 1
    x2_min, x2_max = X[:, 1].min() - 1, X[:, 1].max() + 1
    xx1, xx2 = np.meshgrid(np.arange(x1_min, x1_max, resolution),
                           np.arange(x2_min, x2_max, resolution))
    Z = classifier.predict(np.array([xx1.ravel(), xx2.ravel()]).T)
    Z = Z.reshape(xx1.shape)
    plt.contourf(xx1, xx2, Z, alpha=0.3, cmap=cmap)
    plt.xlim(xx1.min(), xx1.max())
    plt.ylim(xx2.min(), xx2.max())

    for idx, cl in enumerate(np.unique(y)):
        plt.scatter(x=X[y == cl, 0], 
                    y=X[y == cl, 1],
                    alpha=0.8, 
                    color=colors[idx],
                    marker=markers[idx], 
                    label=cl, 
                    edgecolor='black')



plot_decision_regions(x_train, y_train, lr)
plt.xlabel('petal length [standardized]')
plt.ylabel('petal width [standardized]')
plt.legend(loc='upper left')



