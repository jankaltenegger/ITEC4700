


import numpy as np
import matplotlib.pyplot as plt
plt.rcParams['figure.figsize'] = (6.0, 4.0)


from sklearn.datasets import load_iris
iris = load_iris()
iris.data.shape


iris.target.shape





np.unique(iris['target'])


np.bincount(iris['target'])


iris


x = iris.data[:, [2, 3]]
y = iris.target


plt.scatter(x[:, 0], x[:, 1], c=y)
plt.xlabel('Petal Length')
plt.ylabel('Petal Width')
plt.title('150 Irises')
plt.show()


classes = np.unique(y)


for cl in classes:
    x_class = x[y==cl]
    plt.scatter(x_class[:, 0], x_class[:, 1], label=cl)



