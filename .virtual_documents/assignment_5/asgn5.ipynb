


# Where did I find this data? Kaggle
# What is your Y and what are your two Xs?
# Why do you think these Xs and Y are good selections?
# Why do you think this is a good prediction sample?

import pandas as pd
import numpy as np
import matplotlib.pyplot as plt


df = pd.read_csv('possum.csv')
df = df.dropna()
df = df.reset_index(drop=True)
df.head()


df.info()


x = df[['age', 'skullw']]
y = df['hdlngth']


from sklearn.model_selection import train_test_split
x_train, x_test, y_train, y_test = train_test_split(x, y, test_size=0.2, random_state=69)
print(f'x_train shape: {x_train.shape}')
print(f'y_train shape: {y_train.shape}')
print(f'x_train shape: {x_test.shape}')
print(f'y_train shape: {y_test.shape}')


from sklearn.linear_model import LinearRegression
lr = LinearRegression()
lr.fit(x_train, y_train)


y_pred = lr.predict(x_test)


from sklearn.metrics import mean_squared_error, r2_score, mean_absolute_error

mse = mean_squared_error(y_test, y_pred)
mae = mean_absolute_error(y_test, y_pred)
r2 = r2_score(y_test, y_pred)

print("MSE :", mse)
print("MAE :", mae)
print("R²  :", r2)


# This model is supposed to predict the head length of a possum based on it's age and skullwidth
