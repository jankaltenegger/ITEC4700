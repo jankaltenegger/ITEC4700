


# Where did I find this data? Kaggle
# What is your Y and what are your two Xs?
# Why do you think these Xs and Y are good selections?
# Why do you think this is a good prediction sample?

import pandas as pd
import numpy as np
import matplotlib.pyplot as plt


df = pd.read_csv('possum.csv')
df = df.dropna()
df.reset_index(drop=True)
df.head()


df.info()


x = df[['age', 'skullw']]
y = df['hdlngth']


from sklearn.model_selection import train_test_split
x_train, x_test, y_train, y_test = train_test_split(x, y, test_size=0.2, random_state=69)
print(f'x_train shape: {x_train.shape}')
print(f'y_train shape: {y_train.shape}')
print(f'x_train shape: {x_test.shape}')
print(f'y_train shape: {y_test.shape}')


from sklearn.linear_model import LinearRegression
lr = LinearRegression()
lr.fit(x_train, y_train)






