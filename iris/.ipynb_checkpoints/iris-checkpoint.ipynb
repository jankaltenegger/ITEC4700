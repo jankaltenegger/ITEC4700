{
 "cells": [
  {
   "cell_type": "markdown",
   "id": "future-remedy",
   "metadata": {},
   "source": [
    "# Classification of Iris Species\n",
    "\n",
    "In this case, we build several models to classify species of Iris flowers, using the famous [Iris dataset](https://archive.ics.uci.edu/ml/datasets/iris). See also [here](https://en.wikipedia.org/wiki/Iris_flower_data_set), [here](https://www.kaggle.com/uciml/iris) and [here](https://scikit-learn.org/stable/auto_examples/datasets/plot_iris_dataset.html). This notebook is based on [the notebook authored by Sebastian Raschka and Vahid Mirjalili](https://github.com/rasbt/python-machine-learning-book-3rd-edition/blob/master/ch03/) for Chapter 3 of their book Python Machine Learning, Third Edition."
   ]
  },
  {
   "cell_type": "code",
   "execution_count": null,
   "id": "e3315fae-4f20-4c49-a7d9-489d4665dca6",
   "metadata": {},
   "outputs": [],
   "source": []
  }
 ],
 "metadata": {
  "kernelspec": {
   "display_name": "Python 3 (ipykernel)",
   "language": "python",
   "name": "python3"
  },
  "language_info": {
   "codemirror_mode": {
    "name": "ipython",
    "version": 3
   },
   "file_extension": ".py",
   "mimetype": "text/x-python",
   "name": "python",
   "nbconvert_exporter": "python",
   "pygments_lexer": "ipython3",
   "version": "3.11.7"
  }
 },
 "nbformat": 4,
 "nbformat_minor": 5
}
